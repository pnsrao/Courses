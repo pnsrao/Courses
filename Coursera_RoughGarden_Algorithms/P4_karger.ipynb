{
 "cells": [
  {
   "cell_type": "raw",
   "metadata": {},
   "source": [
    "The file contains the adjacency list representation of a simple undirected graph. There are 200 vertices labeled 1 to 200. The first column in the file represents the vertex label, and the particular row (other entries except the first column) tells all the vertices that the vertex is adjacent to. So for example, the 6th row looks like : \"6\t155\t56\t52\t120\t......\". This just means that the vertex with label 6 is adjacent to (i.e., shares an edge with) the vertices with labels 155,56,52,120,......,etc\n",
    "\n",
    "Your task is to code up and run the randomized contraction algorithm for the min cut problem and use it on the above graph to compute the min cut. (HINT: Note that you'll have to figure out an implementation of edge contractions. Initially, you might want to do this naively, creating a new graph from the old every time there's an edge contraction. But you should also think about more efficient implementations.) (WARNING: As per the video lectures, please make sure to run the algorithm many times with different random seeds, and remember the smallest cut that you ever find.) Write your numeric answer in the space provided. So e.g., if your answer is 5, just type 5 in the space provided."
   ]
  },
  {
   "cell_type": "code",
   "execution_count": 44,
   "metadata": {},
   "outputs": [
    {
     "name": "stdout",
     "output_type": "stream",
     "text": [
      "num_edges =  2517 num_vertices =  200\n"
     ]
    }
   ],
   "source": [
    "mydata = open('kargerMinCut.txt','r').readlines()\n",
    "orig_edges = []\n",
    "totcount = 0\n",
    "for myline in mydata:\n",
    "    entries= myline.split()\n",
    "    for vertex in entries[1:]:\n",
    "        totcount += 1\n",
    "        if(vertex > entries[0]):\n",
    "            orig_edges.append((entries[0],vertex))\n",
    "n = len(mydata)\n",
    "print('num_edges = ',len(orig_edges),'num_vertices = ',n)\n"
   ]
  },
  {
   "cell_type": "code",
   "execution_count": 24,
   "metadata": {
    "collapsed": true
   },
   "outputs": [],
   "source": [
    "from numpy.random import randint\n",
    "def reduce(edges):\n",
    "    contract_edge = randint(0,len(edges))\n",
    "    replace_vertex = edges[contract_edge][1]\n",
    "    replace_val = edges[contract_edge][0]\n",
    "    new_edges = []\n",
    "    for myedge in edges:\n",
    "        x,y = myedge\n",
    "        if x == replace_vertex:\n",
    "            x=replace_val\n",
    "        if y== replace_vertex:\n",
    "            y=replace_val\n",
    "        if x != y:\n",
    "            new_edges.append((x,y))\n",
    "    return new_edges\n",
    "\n",
    "def krager(edges,n_vertices):\n",
    "    while n_vertices > 2:\n",
    "        edges = reduce(edges)\n",
    "        n_vertices -= 1\n",
    "    return len(edges)      "
   ]
  },
  {
   "cell_type": "code",
   "execution_count": 48,
   "metadata": {},
   "outputs": [
    {
     "name": "stdout",
     "output_type": "stream",
     "text": [
      "min_degree =  20\n",
      "num_trials =  45821\n",
      "0   2517\n",
      "1000   17\n",
      "2000   17\n",
      "3000   17\n",
      "4000   17\n",
      "5000   17\n",
      "6000   17\n"
     ]
    },
    {
     "ename": "KeyboardInterrupt",
     "evalue": "",
     "output_type": "error",
     "traceback": [
      "\u001b[0;31m---------------------------------------------------------------------------\u001b[0m",
      "\u001b[0;31mKeyboardInterrupt\u001b[0m                         Traceback (most recent call last)",
      "\u001b[0;32m<ipython-input-48-f67892f464f2>\u001b[0m in \u001b[0;36m<module>\u001b[0;34m()\u001b[0m\n\u001b[1;32m     19\u001b[0m         \u001b[0mprint\u001b[0m\u001b[0;34m(\u001b[0m\u001b[0mii\u001b[0m\u001b[0;34m,\u001b[0m\u001b[0;34m\" \"\u001b[0m\u001b[0;34m,\u001b[0m\u001b[0mmin_cut\u001b[0m\u001b[0;34m)\u001b[0m\u001b[0;34m\u001b[0m\u001b[0m\n\u001b[1;32m     20\u001b[0m     \u001b[0medges\u001b[0m \u001b[0;34m=\u001b[0m \u001b[0mdeepcopy\u001b[0m\u001b[0;34m(\u001b[0m\u001b[0morig_edges\u001b[0m\u001b[0;34m)\u001b[0m\u001b[0;34m\u001b[0m\u001b[0m\n\u001b[0;32m---> 21\u001b[0;31m     \u001b[0mnew_val\u001b[0m\u001b[0;34m=\u001b[0m\u001b[0mkrager\u001b[0m\u001b[0;34m(\u001b[0m\u001b[0medges\u001b[0m\u001b[0;34m,\u001b[0m\u001b[0mn\u001b[0m\u001b[0;34m)\u001b[0m\u001b[0;34m\u001b[0m\u001b[0m\n\u001b[0m\u001b[1;32m     22\u001b[0m     \u001b[0;32mif\u001b[0m \u001b[0mnew_val\u001b[0m \u001b[0;34m<\u001b[0m \u001b[0mmin_cut\u001b[0m\u001b[0;34m:\u001b[0m\u001b[0;34m\u001b[0m\u001b[0m\n\u001b[1;32m     23\u001b[0m         \u001b[0mmin_cut\u001b[0m \u001b[0;34m=\u001b[0m \u001b[0mnew_val\u001b[0m\u001b[0;34m\u001b[0m\u001b[0m\n",
      "\u001b[0;32m<ipython-input-24-7c0b91fc9bbc>\u001b[0m in \u001b[0;36mkrager\u001b[0;34m(edges, n_vertices)\u001b[0m\n\u001b[1;32m     17\u001b[0m \u001b[0;32mdef\u001b[0m \u001b[0mkrager\u001b[0m\u001b[0;34m(\u001b[0m\u001b[0medges\u001b[0m\u001b[0;34m,\u001b[0m\u001b[0mn_vertices\u001b[0m\u001b[0;34m)\u001b[0m\u001b[0;34m:\u001b[0m\u001b[0;34m\u001b[0m\u001b[0m\n\u001b[1;32m     18\u001b[0m     \u001b[0;32mwhile\u001b[0m \u001b[0mn_vertices\u001b[0m \u001b[0;34m>\u001b[0m \u001b[0;36m2\u001b[0m\u001b[0;34m:\u001b[0m\u001b[0;34m\u001b[0m\u001b[0m\n\u001b[0;32m---> 19\u001b[0;31m         \u001b[0medges\u001b[0m \u001b[0;34m=\u001b[0m \u001b[0mreduce\u001b[0m\u001b[0;34m(\u001b[0m\u001b[0medges\u001b[0m\u001b[0;34m)\u001b[0m\u001b[0;34m\u001b[0m\u001b[0m\n\u001b[0m\u001b[1;32m     20\u001b[0m         \u001b[0mn_vertices\u001b[0m \u001b[0;34m-=\u001b[0m \u001b[0;36m1\u001b[0m\u001b[0;34m\u001b[0m\u001b[0m\n\u001b[1;32m     21\u001b[0m     \u001b[0;32mreturn\u001b[0m \u001b[0mlen\u001b[0m\u001b[0;34m(\u001b[0m\u001b[0medges\u001b[0m\u001b[0;34m)\u001b[0m\u001b[0;34m\u001b[0m\u001b[0m\n",
      "\u001b[0;32m<ipython-input-24-7c0b91fc9bbc>\u001b[0m in \u001b[0;36mreduce\u001b[0;34m(edges)\u001b[0m\n\u001b[1;32m     12\u001b[0m             \u001b[0my\u001b[0m\u001b[0;34m=\u001b[0m\u001b[0mreplace_val\u001b[0m\u001b[0;34m\u001b[0m\u001b[0m\n\u001b[1;32m     13\u001b[0m         \u001b[0;32mif\u001b[0m \u001b[0mx\u001b[0m \u001b[0;34m!=\u001b[0m \u001b[0my\u001b[0m\u001b[0;34m:\u001b[0m\u001b[0;34m\u001b[0m\u001b[0m\n\u001b[0;32m---> 14\u001b[0;31m             \u001b[0mnew_edges\u001b[0m\u001b[0;34m.\u001b[0m\u001b[0mappend\u001b[0m\u001b[0;34m(\u001b[0m\u001b[0;34m(\u001b[0m\u001b[0mx\u001b[0m\u001b[0;34m,\u001b[0m\u001b[0my\u001b[0m\u001b[0;34m)\u001b[0m\u001b[0;34m)\u001b[0m\u001b[0;34m\u001b[0m\u001b[0m\n\u001b[0m\u001b[1;32m     15\u001b[0m     \u001b[0;32mreturn\u001b[0m \u001b[0mnew_edges\u001b[0m\u001b[0;34m\u001b[0m\u001b[0m\n\u001b[1;32m     16\u001b[0m \u001b[0;34m\u001b[0m\u001b[0m\n",
      "\u001b[0;31mKeyboardInterrupt\u001b[0m: "
     ]
    }
   ],
   "source": [
    "import numpy as np\n",
    "from copy import deepcopy\n",
    "# Survey\n",
    "degrees = [0 for ii in range(n)]\n",
    "for myedge in orig_edges:\n",
    "    degrees[int(myedge[0])-1] += 1\n",
    "    degrees[int(myedge[1])-1] += 1\n",
    "min_degree = n\n",
    "for ii in range(n):\n",
    "    if degrees[ii] < min_degree:\n",
    "        min_degree = degrees[ii]\n",
    "print('min_degree = ',min_degree)\n",
    "p_failure = 1 - 2/(n*(n-1)) + 0.0000000001\n",
    "num_trials = int(np.log(0.1)/np.log(p_failure) + 1)\n",
    "print('num_trials = ',num_trials)\n",
    "min_cut = len(orig_edges)\n",
    "for ii in range(num_trials):\n",
    "    if(ii%1000== 0):\n",
    "        print(ii,\" \",min_cut)\n",
    "    edges = deepcopy(orig_edges)\n",
    "    new_val=krager(edges,n)\n",
    "    if new_val < min_cut:\n",
    "        min_cut = new_val\n",
    "print(min_cut)"
   ]
  },
  {
   "cell_type": "code",
   "execution_count": null,
   "metadata": {
    "collapsed": true
   },
   "outputs": [],
   "source": []
  }
 ],
 "metadata": {
  "kernelspec": {
   "display_name": "Python 3",
   "language": "python",
   "name": "python3"
  },
  "language_info": {
   "codemirror_mode": {
    "name": "ipython",
    "version": 3
   },
   "file_extension": ".py",
   "mimetype": "text/x-python",
   "name": "python",
   "nbconvert_exporter": "python",
   "pygments_lexer": "ipython3",
   "version": "3.6.2"
  }
 },
 "nbformat": 4,
 "nbformat_minor": 2
}
