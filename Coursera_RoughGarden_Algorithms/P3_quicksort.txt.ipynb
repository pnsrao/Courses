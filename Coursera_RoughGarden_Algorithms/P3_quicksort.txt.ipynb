{
 "cells": [
  {
   "cell_type": "code",
   "execution_count": 52,
   "metadata": {
    "collapsed": true
   },
   "outputs": [],
   "source": [
    "import numpy as np\n",
    "a = list(range(5))\n",
    "np.random.shuffle(a)"
   ]
  },
  {
   "cell_type": "code",
   "execution_count": 54,
   "metadata": {},
   "outputs": [
    {
     "name": "stdout",
     "output_type": "stream",
     "text": [
      "10000\n"
     ]
    }
   ],
   "source": [
    "mydata = open('QuickSort.txt','r').readlines()\n",
    "print(len(mydata))"
   ]
  },
  {
   "cell_type": "code",
   "execution_count": 21,
   "metadata": {
    "collapsed": true
   },
   "outputs": [],
   "source": [
    "def partition(A,l,r):\n",
    "    #print(A)\n",
    "    #print(l,r)\n",
    "    N = len(A)\n",
    "    p = int(A[l])\n",
    "    i = l+1\n",
    "    for j in range(l+1,r+1):\n",
    "        if int(A[j])<p:\n",
    "            temp = int(A[i])\n",
    "            A[i]=int(A[j])\n",
    "            A[j]=temp\n",
    "            i += 1\n",
    "    temp = int(A[l])\n",
    "    A[l]= int(A[i-1])\n",
    "    A[i-1] = temp\n",
    "    lNum = 0\n",
    "    rNum = 0\n",
    "    if i > l+2:\n",
    "        lNum = partition(A,l,i-2)\n",
    "    if i < r:\n",
    "        rNum = partition(A,i,r)\n",
    "    return lNum + rNum + r-l"
   ]
  },
  {
   "cell_type": "code",
   "execution_count": 40,
   "metadata": {},
   "outputs": [
    {
     "name": "stdout",
     "output_type": "stream",
     "text": [
      "162085\n"
     ]
    }
   ],
   "source": [
    "print(partition(mydata,0,9999))\n",
    "    "
   ]
  },
  {
   "cell_type": "code",
   "execution_count": 42,
   "metadata": {
    "collapsed": true
   },
   "outputs": [],
   "source": [
    "def partition1(A,l,r):\n",
    "    #print(A)\n",
    "    #print(l,r)\n",
    "    temp = int(A[r])\n",
    "    A[r] = int(A[l])\n",
    "    A[l] = temp\n",
    "    p = int(A[l])\n",
    "    i = l+1\n",
    "    for j in range(l+1,r+1):\n",
    "        if int(A[j])<p:\n",
    "            temp = int(A[i])\n",
    "            A[i]=int(A[j])\n",
    "            A[j]=temp\n",
    "            i += 1\n",
    "    temp = int(A[l])\n",
    "    A[l]= int(A[i-1])\n",
    "    A[i-1] = temp\n",
    "    lNum = 0\n",
    "    rNum = 0\n",
    "    if i > l+2:\n",
    "        lNum = partition1(A,l,i-2)\n",
    "    if i < r:\n",
    "        rNum = partition1(A,i,r)\n",
    "    return lNum + rNum + r-l"
   ]
  },
  {
   "cell_type": "code",
   "execution_count": 43,
   "metadata": {},
   "outputs": [
    {
     "name": "stdout",
     "output_type": "stream",
     "text": [
      "164123\n"
     ]
    }
   ],
   "source": [
    "print(partition1(mydata,0,9999))"
   ]
  },
  {
   "cell_type": "code",
   "execution_count": 55,
   "metadata": {
    "collapsed": true
   },
   "outputs": [],
   "source": [
    "def partition2(A,l,r):\n",
    "    #print(A)\n",
    "    #print(l,r)\n",
    "    Narr = r-l+1\n",
    "    midIndex = l+ (Narr-1)//2\n",
    "    A[l] = int(A[l])\n",
    "    A[r] = int(A[r])\n",
    "    A[midIndex] = int(A[midIndex])\n",
    "    if (A[midIndex] - A[l])*(A[midIndex] - A[r]) < 0:\n",
    "        temp = A[midIndex]\n",
    "        A[midIndex] = A[l]\n",
    "        A[l]=temp\n",
    "    elif (A[r] - A[l])*(A[r] - A[midIndex]) < 0:\n",
    "        temp = A[r]\n",
    "        A[r] = A[l]\n",
    "        A[l]=temp\n",
    "    p = int(A[l])\n",
    "    i = l+1\n",
    "    for j in range(l+1,r+1):\n",
    "        if int(A[j])<p:\n",
    "            temp = int(A[i])\n",
    "            A[i]=int(A[j])\n",
    "            A[j]=temp\n",
    "            i += 1\n",
    "    temp = int(A[l])\n",
    "    A[l]= int(A[i-1])\n",
    "    A[i-1] = temp\n",
    "    lNum = 0\n",
    "    rNum = 0\n",
    "    if i > l+2:\n",
    "        lNum = partition2(A,l,i-2)\n",
    "    if i < r:\n",
    "        rNum = partition2(A,i,r)\n",
    "    return lNum + rNum + r-l"
   ]
  },
  {
   "cell_type": "code",
   "execution_count": 56,
   "metadata": {},
   "outputs": [
    {
     "name": "stdout",
     "output_type": "stream",
     "text": [
      "138382\n"
     ]
    }
   ],
   "source": [
    "print(partition2(mydata,0,9999))"
   ]
  },
  {
   "cell_type": "code",
   "execution_count": null,
   "metadata": {
    "collapsed": true
   },
   "outputs": [],
   "source": []
  }
 ],
 "metadata": {
  "kernelspec": {
   "display_name": "Python 3",
   "language": "python",
   "name": "python3"
  },
  "language_info": {
   "codemirror_mode": {
    "name": "ipython",
    "version": 3
   },
   "file_extension": ".py",
   "mimetype": "text/x-python",
   "name": "python",
   "nbconvert_exporter": "python",
   "pygments_lexer": "ipython3",
   "version": "3.6.2"
  }
 },
 "nbformat": 4,
 "nbformat_minor": 2
}
