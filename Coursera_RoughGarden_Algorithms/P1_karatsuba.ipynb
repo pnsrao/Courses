{
 "cells": [
  {
   "cell_type": "code",
   "execution_count": 1,
   "metadata": {},
   "outputs": [
    {
     "name": "stdout",
     "output_type": "stream",
     "text": [
      "8539734222673567065463550869546574495034888535765114961879601127067743044893204848617875072216249073013374895871952806582723184\n"
     ]
    }
   ],
   "source": [
    "def karatsuba(x,y):\n",
    "    my_n = len(x)\n",
    "    my_nby2 = my_n//2\n",
    "    if my_n < 2:\n",
    "        return int(x)*int(y)\n",
    "    else:\n",
    "        a = x[0:my_nby2]\n",
    "        b = x[my_nby2:]\n",
    "        c = y[0:my_nby2]\n",
    "        d = y[my_nby2:]\n",
    "        ac = karatsuba(a,c)\n",
    "        ad = karatsuba(a,d)\n",
    "        bc = karatsuba(b,c)\n",
    "        bd = karatsuba(b,d)\n",
    "        return 10**my_n * ac + 10**my_nby2*(ad+bc)+bd\n",
    "    \n",
    "    \n",
    "x1 = '3141592653589793238462643383279502884197169399375105820974944592'\n",
    "y1 = '2718281828459045235360287471352662497757247093699959574966967627'\n",
    "\n",
    "print(karatsuba(x1,y1))"
   ]
  },
  {
   "cell_type": "code",
   "execution_count": null,
   "metadata": {
    "collapsed": true
   },
   "outputs": [],
   "source": []
  }
 ],
 "metadata": {
  "kernelspec": {
   "display_name": "Python 3",
   "language": "python",
   "name": "python3"
  },
  "language_info": {
   "codemirror_mode": {
    "name": "ipython",
    "version": 3
   },
   "file_extension": ".py",
   "mimetype": "text/x-python",
   "name": "python",
   "nbconvert_exporter": "python",
   "pygments_lexer": "ipython3",
   "version": "3.6.2"
  }
 },
 "nbformat": 4,
 "nbformat_minor": 2
}
