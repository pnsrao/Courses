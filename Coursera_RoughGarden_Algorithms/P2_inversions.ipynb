{
 "cells": [
  {
   "cell_type": "code",
   "execution_count": 60,
   "metadata": {},
   "outputs": [
    {
     "name": "stdout",
     "output_type": "stream",
     "text": [
      "5190765\n"
     ]
    }
   ],
   "source": [
    "import numpy as np\n",
    "a = list(range(4567))\n",
    "np.random.shuffle(a)\n",
    "# Brute force inversion count\n",
    "nInv = 0\n",
    "for ii in range(len(a)):\n",
    "    for jj in range(ii,len(a)):\n",
    "        if a[jj]<a[ii]:\n",
    "            nInv += 1\n",
    "print(nInv)"
   ]
  },
  {
   "cell_type": "code",
   "execution_count": 61,
   "metadata": {},
   "outputs": [],
   "source": [
    "def sort_count(myarray):\n",
    "    mylength = len(myarray)\n",
    "    if mylength == 1:\n",
    "        return myarray, 0\n",
    "    else:\n",
    "        #print(myarray)\n",
    "        lA = mylength//2\n",
    "        lB = mylength - lA\n",
    "        sortArrB, x = sort_count(myarray[:lA])\n",
    "        sortArrC, y = sort_count(myarray[lA:])\n",
    "        sortArr = []\n",
    "        ii = 0\n",
    "        jj = 0\n",
    "        z = 0\n",
    "        for kk in range(mylength):\n",
    "            if jj >= lB or (ii<lA and int(sortArrB[ii])<=int(sortArrC[jj])):\n",
    "                sortArr.append(sortArrB[ii])\n",
    "                ii += 1\n",
    "            else:\n",
    "                sortArr.append(sortArrC[jj]) \n",
    "                jj += 1\n",
    "                z += (mylength//2 - ii)\n",
    "        #print(x,y,z)\n",
    "        return sortArr, x+y+z"
   ]
  },
  {
   "cell_type": "code",
   "execution_count": 63,
   "metadata": {},
   "outputs": [
    {
     "name": "stdout",
     "output_type": "stream",
     "text": [
      "2407905288\n"
     ]
    }
   ],
   "source": [
    "mydata = open('IntegerArray.txt','r').readlines()\n",
    "#mydata=a\n",
    "sA, nInv = sort_count(mydata)\n",
    "print(nInv)"
   ]
  },
  {
   "cell_type": "code",
   "execution_count": null,
   "metadata": {
    "collapsed": true
   },
   "outputs": [],
   "source": []
  }
 ],
 "metadata": {
  "kernelspec": {
   "display_name": "Python 3",
   "language": "python",
   "name": "python3"
  },
  "language_info": {
   "codemirror_mode": {
    "name": "ipython",
    "version": 3
   },
   "file_extension": ".py",
   "mimetype": "text/x-python",
   "name": "python",
   "nbconvert_exporter": "python",
   "pygments_lexer": "ipython3",
   "version": "3.6.2"
  }
 },
 "nbformat": 4,
 "nbformat_minor": 2
}
