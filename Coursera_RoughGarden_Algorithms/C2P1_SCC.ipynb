{
 "cells": [
  {
   "cell_type": "code",
   "execution_count": 10,
   "metadata": {},
   "outputs": [
    {
     "name": "stdout",
     "output_type": "stream",
     "text": [
      "5105043\n"
     ]
    }
   ],
   "source": [
    "mydata = open('SCC.txt','r').readlines()\n",
    "print(len(mydata))\n",
    "num_vertices = 875714"
   ]
  },
  {
   "cell_type": "raw",
   "metadata": {},
   "source": [
    "The file contains the edges of a directed graph. Vertices are labeled as positive integers from 1 to 875714. Every row indicates an edge, the vertex label in first column is the tail and the vertex label in second column is the head (recall the graph is directed, and the edges are directed from the first column vertex to the second column vertex). So for example, the 11th row looks liks : \"2 47646\". This just means that the vertex with label 2 has an outgoing edge to the vertex with label 47646\n",
    "\n",
    "Your task is to code up the algorithm from the video lectures for computing strongly connected components (SCCs), and to run this algorithm on the given graph.\n",
    "\n",
    "Output Format: You should output the sizes of the 5 largest SCCs in the given graph, in decreasing order of sizes, separated by commas (avoid any spaces). So if your algorithm computes the sizes of the five largest SCCs to be 500, 400, 300, 200 and 100, then your answer should be \"500,400,300,200,100\" (without the quotes). If your algorithm finds less than 5 SCCs, then write 0 for the remaining terms. Thus, if your algorithm computes only 3 SCCs whose sizes are 400, 300, and 100, then your answer should be \"400,300,100,0,0\" (without the quotes). (Note also that your answer should not have any spaces in it.)\n",
    "\n",
    "WARNING: This is the most challenging programming assignment of the course. Because of the size of the graph you may have to manage memory carefully. The best way to do this depends on your programming language and environment, and we strongly suggest that you exchange tips for doing this on the discussion forums."
   ]
  },
  {
   "cell_type": "code",
   "execution_count": 11,
   "metadata": {
    "collapsed": true
   },
   "outputs": [],
   "source": [
    "import sys ,resource\n",
    "sys.setrecursionlimit(4000000)\n",
    "resource.setrlimit(resource.RLIMIT_STACK, (2**29, 2**30))\n"
   ]
  },
  {
   "cell_type": "code",
   "execution_count": 12,
   "metadata": {
    "collapsed": true
   },
   "outputs": [],
   "source": [
    "!ulimit -s 65532"
   ]
  },
  {
   "cell_type": "code",
   "execution_count": 13,
   "metadata": {
    "collapsed": true
   },
   "outputs": [],
   "source": [
    "import numpy as np\n",
    "import pandas as pd\n",
    "def show_mem_usage():\n",
    "    '''Displays memory usage from inspection\n",
    "    of global variables in this notebook'''\n",
    "    gl = sys._getframe(1).f_globals\n",
    "    vars= {}\n",
    "    for k,v in list(gl.items()):\n",
    "        # for pandas dataframes\n",
    "        if hasattr(v, 'memory_usage'):\n",
    "            mem = v.memory_usage(deep=True)\n",
    "            if not np.isscalar(mem):\n",
    "                mem = mem.sum()\n",
    "            vars.setdefault(id(v),[mem]).append(k)\n",
    "        # work around for a bug\n",
    "        elif isinstance(v,pd.Panel):\n",
    "            v = v.values\n",
    "        vars.setdefault(id(v),[sys.getsizeof(v)]).append(k)\n",
    "    total = 0\n",
    "    for k,(value,*names) in vars.items():\n",
    "        if value>1e6:\n",
    "            print(names,\"%.3fMB\"%(value/1e6))\n",
    "        total += value\n",
    "    print(\"%.3fMB\"%(total/1e6))"
   ]
  },
  {
   "cell_type": "code",
   "execution_count": 14,
   "metadata": {},
   "outputs": [
    {
     "name": "stdout",
     "output_type": "stream",
     "text": [
      "5105043 739454 714547 13.720555000000001\n",
      "['mydata'] 42.915MB\n",
      "['revgraph'] 50.332MB\n",
      "['graph'] 50.332MB\n",
      "['explored'] 50.332MB\n",
      "['fin_time'] 50.332MB\n",
      "244.250MB\n"
     ]
    }
   ],
   "source": [
    "import time\n",
    "graph = {}\n",
    "revgraph = {}\n",
    "ind = 0\n",
    "start_time = time.clock()\n",
    "for myline in mydata:\n",
    "    entries = myline.split()\n",
    "    tail = int(entries[0])\n",
    "    if tail >= 1 and tail <= num_vertices:\n",
    "        tail = str(tail)\n",
    "    else:\n",
    "        print(entries)\n",
    "        break\n",
    "    head = int(entries[1])\n",
    "    if head >= 1 and head <= num_vertices:\n",
    "        head = str(head)\n",
    "    else:\n",
    "        print(entries)\n",
    "        break\n",
    "    if(tail in graph):\n",
    "        graph[tail].append(head)\n",
    "    else:\n",
    "        graph[tail]=[head]    \n",
    "    if head in revgraph:\n",
    "        revgraph[head].append(tail)\n",
    "    else:\n",
    "        revgraph[head] = [tail]    \n",
    "    ind += 1\n",
    "print(ind,len(graph),len(revgraph),time.clock()-start_time)\n",
    "show_mem_usage()\n",
    "global cur_time\n",
    "fin_time = {}"
   ]
  },
  {
   "cell_type": "code",
   "execution_count": 15,
   "metadata": {},
   "outputs": [
    {
     "name": "stdout",
     "output_type": "stream",
     "text": [
      "['explored'] 50.332MB\n",
      "['revgraph'] 50.332MB\n",
      "['graph'] 50.332MB\n",
      "['mydata'] 42.915MB\n",
      "193.918MB\n"
     ]
    }
   ],
   "source": [
    "explored = {}\n",
    "for ii in range(1,num_vertices+1):\n",
    "    explored[str(ii)]=False\n",
    "show_mem_usage()\n",
    "global rec_depth\n",
    "rec_depth =0"
   ]
  },
  {
   "cell_type": "code",
   "execution_count": 16,
   "metadata": {
    "collapsed": true
   },
   "outputs": [],
   "source": [
    "def print_debug(node_id):\n",
    "    global rec_depth\n",
    "    print(rec_depth,node_id)"
   ]
  },
  {
   "cell_type": "code",
   "execution_count": 17,
   "metadata": {
    "collapsed": true
   },
   "outputs": [],
   "source": [
    "def dfs(graph1,node_id):\n",
    "    global cur_time\n",
    "    global rec_depth\n",
    "    count = 0\n",
    "    rec_depth += 1\n",
    "    explored[node_id]=True\n",
    "    count += 1\n",
    "    if node_id in graph1:\n",
    "        for myedge in graph1[node_id]:\n",
    "            if  not explored[myedge]:\n",
    "                count += dfs(graph1,myedge)\n",
    "    cur_time += 1\n",
    "    fin_time[str(cur_time)] = node_id\n",
    "    rec_depth -= 1\n",
    "    return count"
   ]
  },
  {
   "cell_type": "code",
   "execution_count": 18,
   "metadata": {},
   "outputs": [
    {
     "name": "stdout",
     "output_type": "stream",
     "text": [
      "10000 2.831970999999996\n",
      "20000 2.851779999999998\n",
      "30000 2.8715569999999957\n",
      "40000 2.8889569999999978\n",
      "50000 2.9043009999999967\n",
      "60000 2.920294999999996\n",
      "70000 2.9351549999999946\n",
      "80000 2.9501649999999984\n",
      "90000 2.964452999999999\n",
      "100000 2.980415999999998\n",
      "110000 2.994944999999994\n",
      "120000 3.0079700000000003\n",
      "130000 3.0213119999999947\n",
      "140000 3.034842999999995\n",
      "150000 3.0480349999999987\n",
      "160000 3.061746999999997\n",
      "170000 3.074645999999994\n",
      "180000 3.087213999999996\n",
      "190000 3.1004179999999977\n",
      "200000 3.1132319999999964\n",
      "210000 3.1275149999999954\n",
      "220000 3.143566\n",
      "230000 3.1564929999999976\n",
      "240000 3.1910569999999936\n",
      "250000 3.2034909999999996\n",
      "260000 3.216321999999998\n",
      "270000 3.228445999999998\n",
      "280000 3.241726\n",
      "290000 3.254179999999998\n",
      "300000 3.2667829999999967\n",
      "310000 3.279164999999999\n",
      "320000 3.291395999999999\n",
      "330000 3.3034339999999958\n",
      "340000 3.315760999999995\n",
      "350000 3.3273949999999957\n",
      "360000 3.338963999999997\n",
      "370000 3.3512909999999962\n",
      "380000 3.3632519999999957\n",
      "390000 3.375397999999997\n",
      "400000 3.3871819999999957\n",
      "410000 3.399524999999997\n",
      "420000 3.4116269999999957\n",
      "430000 3.423805999999999\n",
      "440000 3.436287\n",
      "450000 3.4486419999999995\n",
      "460000 3.460571999999999\n",
      "470000 3.472379999999994\n",
      "480000 3.484407999999995\n",
      "490000 3.4961629999999957\n",
      "500000 3.5084619999999944\n",
      "510000 3.520816999999994\n",
      "520000 3.5330629999999985\n",
      "530000 3.546374\n",
      "540000 3.5586919999999935\n",
      "550000 3.571151999999998\n",
      "560000 3.5833510000000004\n",
      "570000 3.595434999999995\n",
      "580000 3.6103899999999953\n",
      "590000 3.6236829999999998\n",
      "600000 3.6356579999999994\n",
      "610000 3.647642999999995\n",
      "620000 3.6593699999999956\n",
      "630000 3.671293999999996\n",
      "640000 3.6831529999999972\n",
      "650000 3.695178999999996\n",
      "660000 3.7065819999999974\n",
      "670000 3.7184369999999944\n",
      "680000 3.7300559999999976\n",
      "690000 3.741946999999996\n",
      "700000 3.753935999999996\n",
      "710000 3.7657629999999997\n",
      "720000 3.7775669999999977\n",
      "730000 3.7890099999999975\n",
      "740000 3.8000519999999938\n",
      "750000 3.811009999999996\n",
      "760000 3.821486\n",
      "770000 3.8321949999999987\n",
      "780000 3.842492\n",
      "790000 3.853010999999995\n",
      "800000 3.8631209999999996\n",
      "810000 3.872758999999995\n",
      "820000 3.8820949999999996\n",
      "830000 3.8916699999999977\n",
      "840000 3.9008599999999944\n",
      "850000 3.9096189999999993\n",
      "860000 3.9185949999999963\n",
      "870000 3.9274849999999972\n"
     ]
    }
   ],
   "source": [
    "cur_time = 0\n",
    "start_time = time.clock()\n",
    "for ii in range(1,num_vertices+1):\n",
    "    if ii % 100000 == 0:\n",
    "        print(ii,time.clock()-start_time)\n",
    "    if not explored[str(ii)]:\n",
    "        dfs(revgraph,str(ii))"
   ]
  },
  {
   "cell_type": "code",
   "execution_count": 19,
   "metadata": {},
   "outputs": [
    {
     "name": "stdout",
     "output_type": "stream",
     "text": [
      "[211, 313, 459, 968, 434821]\n"
     ]
    }
   ],
   "source": [
    "explored = {}\n",
    "largest_scc = [0,0,0,0,0]\n",
    "for ii in range(1,num_vertices+1):\n",
    "    explored[str(ii)]=False\n",
    "for ii in range(num_vertices,0,-1):\n",
    "    if not explored[fin_time[str(ii)]]:\n",
    "        scc_size = dfs(graph,fin_time[str(ii)])\n",
    "        if scc_size > largest_scc[0]:\n",
    "            largest_scc[0] = scc_size\n",
    "            largest_scc = sorted(largest_scc)\n",
    "print(largest_scc)"
   ]
  }
 ],
 "metadata": {
  "kernelspec": {
   "display_name": "Python 3",
   "language": "python",
   "name": "python3"
  },
  "language_info": {
   "codemirror_mode": {
    "name": "ipython",
    "version": 3
   },
   "file_extension": ".py",
   "mimetype": "text/x-python",
   "name": "python",
   "nbconvert_exporter": "python",
   "pygments_lexer": "ipython3",
   "version": "3.5.2"
  },
  "widgets": {
   "state": {},
   "version": "1.1.2"
  }
 },
 "nbformat": 4,
 "nbformat_minor": 2
}
